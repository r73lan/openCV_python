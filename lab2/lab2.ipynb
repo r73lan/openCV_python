{
 "cells": [
  {
   "cell_type": "code",
   "execution_count": 1,
   "metadata": {},
   "outputs": [],
   "source": [
    "import cv2\n",
    "import numpy as np\n",
    "\n",
    "# Загрузка изображения\n",
    "image = cv2.imread('spb_2.jpg')\n",
    "\n",
    "# Проверяем, что изображение загружено\n",
    "if image is None:\n",
    "    print(\"Не удалось загрузить изображение\")\n",
    "    exit()\n",
    "\n",
    "# Определение точек исходного изображения и соответствующих им точек на выходном изображении\n",
    "# ВАЖНО: Необходимо 4 точки для getPerspectiveTransform\n",
    "pts1 = np.float32([[50, 50], [200, 50], [50, 200], [200, 200]])\n",
    "pts2 = np.float32([[10, 100], [200, 50], [100, 250], [300, 200]])\n",
    "\n",
    "# Получение матрицы перспективного преобразования\n",
    "M = cv2.getPerspectiveTransform(pts1, pts2)\n",
    "\n",
    "# Применение перспективного преобразования\n",
    "dst = cv2.warpPerspective(image, M, (image.shape[1], image.shape[0]))\n",
    "\n",
    "# Отображение результата\n",
    "cv2.imshow('Original Image', image)\n",
    "cv2.imshow('Perspective Transformed', dst)\n",
    "cv2.waitKey(0)\n",
    "cv2.destroyAllWindows()"
   ]
  },
  {
   "cell_type": "code",
   "execution_count": null,
   "metadata": {},
   "outputs": [],
   "source": []
  }
 ],
 "metadata": {
  "kernelspec": {
   "display_name": "Python 3",
   "language": "python",
   "name": "python3"
  },
  "language_info": {
   "codemirror_mode": {
    "name": "ipython",
    "version": 3
   },
   "file_extension": ".py",
   "mimetype": "text/x-python",
   "name": "python",
   "nbconvert_exporter": "python",
   "pygments_lexer": "ipython3",
   "version": "3.11.5"
  }
 },
 "nbformat": 4,
 "nbformat_minor": 2
}
